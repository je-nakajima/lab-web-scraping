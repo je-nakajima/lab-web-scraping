{
 "cells": [
  {
   "cell_type": "markdown",
   "metadata": {},
   "source": [
    "# Web Scraping Lab\n",
    "\n",
    "You will find in this notebook some scrapy exercises to practise your scraping skills.\n",
    "\n",
    "**Tips:**\n",
    "\n",
    "- Check the response status code for each request to ensure you have obtained the intended content.\n",
    "- Print the response text in each request to understand the kind of info you are getting and its format.\n",
    "- Check for patterns in the response text to extract the data/info requested in each question.\n",
    "- Visit the urls below and take a look at their source code through Chrome DevTools. You'll need to identify the html tags, special class names, etc used in the html content you are expected to extract.\n",
    "\n",
    "**Resources**:\n",
    "- [Requests library](http://docs.python-requests.org/en/master/#the-user-guide)\n",
    "- [Beautiful Soup Doc](https://www.crummy.com/software/BeautifulSoup/bs4/doc/)\n",
    "- [Urllib](https://docs.python.org/3/library/urllib.html#module-urllib)\n",
    "- [re lib](https://docs.python.org/3/library/re.html)\n",
    "- [lxml lib](https://lxml.de/)\n",
    "- [Scrapy](https://scrapy.org/)\n",
    "- [List of HTTP status codes](https://en.wikipedia.org/wiki/List_of_HTTP_status_codes)\n",
    "- [HTML basics](http://www.simplehtmlguide.com/cheatsheet.php)\n",
    "- [CSS basics](https://www.cssbasics.com/#page_start)"
   ]
  },
  {
   "cell_type": "markdown",
   "metadata": {},
   "source": [
    "#### Below are the libraries and modules you may need. `requests`,  `BeautifulSoup` and `pandas` are already imported for you. If you prefer to use additional libraries feel free to do it."
   ]
  },
  {
   "cell_type": "code",
   "execution_count": 16,
   "metadata": {},
   "outputs": [],
   "source": [
    "import requests\n",
    "from bs4 import BeautifulSoup\n",
    "import pandas as pd\n"
   ]
  },
  {
   "cell_type": "markdown",
   "metadata": {},
   "source": [
    "#### Download, parse (using BeautifulSoup), and print the content from the Trending Developers page from GitHub:"
   ]
  },
  {
   "cell_type": "code",
   "execution_count": 3,
   "metadata": {},
   "outputs": [],
   "source": [
    "# This is the url you will scrape in this exercise\n",
    "url = 'https://github.com/trending/developers'"
   ]
  },
  {
   "cell_type": "markdown",
   "metadata": {},
   "source": [
    "Step No.1 \n",
    "I import requests and request access. "
   ]
  },
  {
   "cell_type": "code",
   "execution_count": 17,
   "metadata": {},
   "outputs": [
    {
     "name": "stdout",
     "output_type": "stream",
     "text": [
      "Yes, baby!\n"
     ]
    }
   ],
   "source": [
    "url = \"https://github.com/trending/developers\"\n",
    "page = requests.get(url)\n",
    "\n",
    "if(page.status_code==200):\n",
    "    print('Yes, baby!')\n",
    "else:\n",
    "    print('Failed')\n",
    "    print('status_code: ', page.status_code)"
   ]
  },
  {
   "cell_type": "code",
   "execution_count": 48,
   "metadata": {},
   "outputs": [],
   "source": [
    "#I first print the content, so in order to make analaysis better, I navigate using BeautifulSoup, using html parser. \n",
    "soup = BeautifulSoup(page.content, 'html.parser') \n",
    "pretty_object =soup.prettify()\n",
    "#print(pretty_object)\n",
    "#pretty_object[0:100]\n",
    "\n",
    "#Can I use pretty_object[0:1000], the object does not look \"prettified\" anymore, ayway just to show some part of the object"
   ]
  },
  {
   "cell_type": "markdown",
   "metadata": {},
   "source": [
    "#### 1. Display the names of the trending developers retrieved in the previous step.\n",
    "\n",
    "Your output should be a Python list of developer names. Each name should not contain any html tag.\n",
    "\n",
    "**Instructions:**\n",
    "\n",
    "1. Find out the html tag and class names used for the developer names. You can achieve this using Chrome DevTools or clicking in 'Inspect' on any browser. Here is an example:\n",
    "\n",
    "![title](example_1.png)\n",
    "\n",
    "2. Use BeautifulSoup `find_all()` to extract all the html elements that contain the developer names. Hint: pass in the `attrs` parameter to specify the class.\n",
    "\n",
    "3. Loop through the elements found and get the text for each of them.\n",
    "\n",
    "4. While you are at it, use string manipulation techniques to replace whitespaces and linebreaks (i.e. `\\n`) in the *text* of each html element. Use a list to store the clean names. Hint: you may also use `.get_text()` instead of `.text` and pass in the desired parameters to do some string manipulation (check the documentation).\n",
    "\n",
    "5. Print the list of names.\n",
    "\n",
    "Your output should look like below:\n",
    "\n",
    "```\n",
    "['trimstray (@trimstray)',\n",
    " 'joewalnes (JoeWalnes)',\n",
    " 'charlax (Charles-AxelDein)',\n",
    " 'ForrestKnight (ForrestKnight)',\n",
    " 'revery-ui (revery-ui)',\n",
    " 'alibaba (Alibaba)',\n",
    " 'Microsoft (Microsoft)',\n",
    " 'github (GitHub)',\n",
    " 'facebook (Facebook)',\n",
    " 'boazsegev (Bo)',\n",
    " 'google (Google)',\n",
    " 'cloudfetch',\n",
    " 'sindresorhus (SindreSorhus)',\n",
    " 'tensorflow',\n",
    " 'apache (TheApacheSoftwareFoundation)',\n",
    " 'DevonCrawford (DevonCrawford)',\n",
    " 'ARMmbed (ArmMbed)',\n",
    " 'vuejs (vuejs)',\n",
    " 'fastai (fast.ai)',\n",
    " 'QiShaoXuan (Qi)',\n",
    " 'joelparkerhenderson (JoelParkerHenderson)',\n",
    " 'torvalds (LinusTorvalds)',\n",
    " 'CyC2018',\n",
    " 'komeiji-satori (神楽坂覚々)',\n",
    " 'script-8']\n",
    " ```"
   ]
  },
  {
   "cell_type": "code",
   "execution_count": 73,
   "metadata": {},
   "outputs": [
    {
     "data": {
      "text/plain": [
       "['frenck (Franck Nijhof)',\n",
       " 'MilosKozak (Milos Kozak)',\n",
       " 'dtolnay (David Tolnay)',\n",
       " 'wcandillon (William Candillon)',\n",
       " 'asvetliakov (Alexey Svetliakov)',\n",
       " 'willmcgugan (Will McGugan)',\n",
       " 'omry (Omry Yadan)',\n",
       " 'LeCoupa (Julien Le Coupanec)',\n",
       " '42wim (Wim)',\n",
       " 'luanpotter (Luan Nico)',\n",
       " 'unixorn (Joe Block)',\n",
       " 'toji (Brandon Jones)',\n",
       " 'muukii (Hiroshi Kimura)',\n",
       " 'lucidrains (Phil Wang)',\n",
       " 'thomasloven (Thomas Lovén)',\n",
       " 'hairyhenderson (Dave Henderson)',\n",
       " 'adamchainz (Adam Johnson)',\n",
       " 'prabirshrestha (Prabir Shrestha)',\n",
       " 'zeux (Arseny Kapoulkine)',\n",
       " 'arvidn (Arvid Norberg)',\n",
       " 'PySimpleGUI (PySimpleGUI)',\n",
       " 'tony (Tony Narlock)',\n",
       " 'felixonmars (Felix Yan)',\n",
       " 'robertmartin8 (Robert Martin)',\n",
       " 'mlocati (Michele Locati)']"
      ]
     },
     "execution_count": 73,
     "metadata": {},
     "output_type": "execute_result"
    }
   ],
   "source": [
    "# your code here\n",
    "#soup.find_all(class_=\"h3 lh-condensed\")\n",
    "all_names_lst = []\n",
    "for link in soup.find_all('h1',class_=\"h3 lh-condensed\"):\n",
    "    #print(link.find('a').get('href').strip('/')+ ' ('+ link.get_text().strip()+')')\n",
    "    all_names_lst.append(link.find('a').get('href').strip('/')+ ' ('+ link.get_text().strip()+')')\n",
    "all_names_lst\n",
    "\n",
    "    \n",
    "#soup.get_text() #- I get text\n",
    "#print(all_names_lst.get_text())"
   ]
  },
  {
   "cell_type": "markdown",
   "metadata": {},
   "source": [
    "#### 1.1. Display the trending Python repositories in GitHub.\n",
    "\n",
    "The steps to solve this problem is similar to the previous one except that you need to find out the repository names instead of developer names."
   ]
  },
  {
   "cell_type": "code",
   "execution_count": 74,
   "metadata": {},
   "outputs": [],
   "source": [
    "# This is the url you will scrape in this exercise\n",
    "url = 'https://github.com/trending/python?since=daily'"
   ]
  },
  {
   "cell_type": "code",
   "execution_count": 81,
   "metadata": {},
   "outputs": [
    {
     "data": {
      "text/plain": [
       "['ChinaVolvocars/jd_maotai_seckill',\n",
       " 'sherlock-project/sherlock',\n",
       " 'boston-dynamics/spot-sdk',\n",
       " 'ytdl-org/youtube-dl',\n",
       " 'mxrch/GHunt',\n",
       " 'lucidrains/vit-pytorch',\n",
       " 'donnemartin/system-design-primer',\n",
       " 'spesmilo/electrum',\n",
       " 'willmcgugan/rich',\n",
       " 'swisskyrepo/PayloadsAllTheThings',\n",
       " 'facebookresearch/TransCoder',\n",
       " 'owid/covid-19-data',\n",
       " 'eriklindernoren/ML-From-Scratch',\n",
       " 'jerry3747/taobao_seckill',\n",
       " 'pythonstock/stock',\n",
       " 'PaddlePaddle/PaddleOCR',\n",
       " 'PiotrMachowski/Xiaomi-cloud-tokens-extractor',\n",
       " 'bitcoin/bips',\n",
       " 'devicons/devicon',\n",
       " 'vineetjohn/daily-coding-problem',\n",
       " 'OctoPrint/OctoPrint',\n",
       " 'loseys/Oblivion',\n",
       " 'python-telegram-bot/python-telegram-bot',\n",
       " 'LonamiWebs/Telethon',\n",
       " 'sammchardy/python-binance']"
      ]
     },
     "execution_count": 81,
     "metadata": {},
     "output_type": "execute_result"
    }
   ],
   "source": [
    "page = requests.get(url)\n",
    "soup = BeautifulSoup(page.content, 'html.parser') \n",
    "#print(soup.prettify())\n",
    "all_links =[]\n",
    "for link in soup.find_all('h1',class_=\"h3 lh-condensed\"):\n",
    "    all_links.append(link.find('a').get('href').strip('/'))\n",
    "all_links\n",
    "\n"
   ]
  },
  {
   "cell_type": "markdown",
   "metadata": {},
   "source": [
    "#### 2. Display all the image links from Walt Disney wikipedia page.\n",
    "Hint: use `.get()` to access information inside tags. Check out the documentation."
   ]
  },
  {
   "cell_type": "code",
   "execution_count": 82,
   "metadata": {},
   "outputs": [],
   "source": [
    "# This is the url you will scrape in this exercise\n",
    "url = 'https://en.wikipedia.org/wiki/Walt_Disney'"
   ]
  },
  {
   "cell_type": "code",
   "execution_count": 87,
   "metadata": {},
   "outputs": [
    {
     "data": {
      "text/plain": [
       "['/wiki/File:Walt_Disney_1946.JPG',\n",
       " '/wiki/File:Walt_Disney_1942_signature.svg',\n",
       " '/wiki/File:Walt_Disney_envelope_ca._1921.jpg',\n",
       " '/wiki/File:Trolley_Troubles_poster.jpg',\n",
       " '/wiki/File:Walt_Disney_and_his_cartoon_creation_%22Mickey_Mouse%22_-_National_Board_of_Review_Magazine.jpg',\n",
       " '/wiki/File:Steamboat-willie.jpg',\n",
       " '/wiki/File:Walt_Disney_1935.jpg',\n",
       " '/wiki/File:Walt_Disney_Snow_white_1937_trailer_screenshot_(13).jpg',\n",
       " '/wiki/File:Disney_drawing_goofy.jpg',\n",
       " '/wiki/File:DisneySchiphol1951.jpg',\n",
       " '/wiki/File:WaltDisneyplansDisneylandDec1954.jpg',\n",
       " '/wiki/File:Walt_disney_portrait_right.jpg',\n",
       " '/wiki/File:Walt_Disney_Grave.JPG',\n",
       " '/wiki/File:Roy_O._Disney_with_Company_at_Press_Conference.jpg',\n",
       " '/wiki/File:Disney_Display_Case.JPG',\n",
       " '/wiki/File:Disney1968.jpg',\n",
       " '/wiki/File:Animation_disc.svg',\n",
       " '/wiki/File:P_vip.svg',\n",
       " '/wiki/File:Magic_Kingdom_castle.jpg',\n",
       " '/wiki/File:Video-x-generic.svg',\n",
       " '/wiki/File:Flag_of_Los_Angeles_County,_California.svg',\n",
       " '/wiki/File:Blank_television_set.svg',\n",
       " '/wiki/File:Flag_of_the_United_States.svg']"
      ]
     },
     "execution_count": 87,
     "metadata": {},
     "output_type": "execute_result"
    }
   ],
   "source": [
    "page = requests.get(url)\n",
    "soup = BeautifulSoup(page.content, 'html.parser') \n",
    "#print(soup.prettify())\n",
    "#class=\"thumbimage\"\n",
    "imglst = []\n",
    "for link in soup.find_all('a',class_=\"image\"):\n",
    "    imglst.append(link.get('href').strip())\n",
    "imglst\n"
   ]
  },
  {
   "cell_type": "markdown",
   "metadata": {},
   "source": [
    "#### 2.1. List all language names and number of related articles in the order they appear in wikipedia.org."
   ]
  },
  {
   "cell_type": "code",
   "execution_count": 93,
   "metadata": {},
   "outputs": [],
   "source": [
    "# This is the url you will scrape in this exercise\n",
    "url = 'https://www.wikipedia.org/'"
   ]
  },
  {
   "cell_type": "code",
   "execution_count": 95,
   "metadata": {},
   "outputs": [
    {
     "name": "stdout",
     "output_type": "stream",
     "text": [
      "English\n",
      "6 222 000+ articles\n",
      "日本語\n",
      "1 246 000+ 記事\n",
      "Deutsch\n",
      "2 519 000+ Artikel\n",
      "Español\n",
      "1 651 000+ artículos\n",
      "Français\n",
      "2 285 000+ articles\n",
      "Русский\n",
      "1 688 000+ статей\n",
      "Italiano\n",
      "1 663 000+ voci\n",
      "中文\n",
      "1 168 000+ 條目\n",
      "Português\n",
      "1 051 000+ artigos\n",
      "Polski\n",
      "1 447 000+ haseł\n"
     ]
    }
   ],
   "source": [
    "# your code here\n",
    "import re\n",
    "\n",
    "page = requests.get(url)\n",
    "soup = BeautifulSoup(page.content, 'html.parser') \n",
    " \n",
    "for tag in soup.find_all(class_=re.compile(\"central-featured-lang\")):\n",
    "    print(tag.get_text().strip())"
   ]
  },
  {
   "cell_type": "markdown",
   "metadata": {},
   "source": [
    "#### 2.2. Display the top 10 languages by number of native speakers stored in a pandas dataframe.\n",
    "Hint: After finding the correct table you want to analyse, you can use a nested **for** loop to find the elements row by row (check out the 'td' and 'tr' tags). <br>An easier way to do it is using pd.read_html(), check out documentation [here](https://pandas.pydata.org/pandas-docs/version/0.23.4/generated/pandas.read_html.html)."
   ]
  },
  {
   "cell_type": "code",
   "execution_count": 98,
   "metadata": {},
   "outputs": [],
   "source": [
    "# This is the url you will scrape in this exercise\n",
    "url = 'https://en.wikipedia.org/wiki/List_of_languages_by_number_of_native_speakers'"
   ]
  },
  {
   "cell_type": "code",
   "execution_count": 104,
   "metadata": {},
   "outputs": [
    {
     "data": {
      "text/html": [
       "<div>\n",
       "<style scoped>\n",
       "    .dataframe tbody tr th:only-of-type {\n",
       "        vertical-align: middle;\n",
       "    }\n",
       "\n",
       "    .dataframe tbody tr th {\n",
       "        vertical-align: top;\n",
       "    }\n",
       "\n",
       "    .dataframe thead th {\n",
       "        text-align: right;\n",
       "    }\n",
       "</style>\n",
       "<table border=\"1\" class=\"dataframe\">\n",
       "  <thead>\n",
       "    <tr style=\"text-align: right;\">\n",
       "      <th></th>\n",
       "      <th>Rank</th>\n",
       "      <th>Language</th>\n",
       "      <th>Speakers(millions)</th>\n",
       "      <th>Percentageof world pop.(March 2019)[8]</th>\n",
       "      <th>Language family</th>\n",
       "      <th>Branch</th>\n",
       "    </tr>\n",
       "  </thead>\n",
       "  <tbody>\n",
       "    <tr>\n",
       "      <th>0</th>\n",
       "      <td>1</td>\n",
       "      <td>Mandarin Chinese</td>\n",
       "      <td>918.0</td>\n",
       "      <td>11.922%</td>\n",
       "      <td>Sino-Tibetan</td>\n",
       "      <td>Sinitic</td>\n",
       "    </tr>\n",
       "    <tr>\n",
       "      <th>1</th>\n",
       "      <td>2</td>\n",
       "      <td>Spanish</td>\n",
       "      <td>480.0</td>\n",
       "      <td>5.994%</td>\n",
       "      <td>Indo-European</td>\n",
       "      <td>Romance</td>\n",
       "    </tr>\n",
       "    <tr>\n",
       "      <th>2</th>\n",
       "      <td>3</td>\n",
       "      <td>English</td>\n",
       "      <td>379.0</td>\n",
       "      <td>4.922%</td>\n",
       "      <td>Indo-European</td>\n",
       "      <td>Germanic</td>\n",
       "    </tr>\n",
       "    <tr>\n",
       "      <th>3</th>\n",
       "      <td>4</td>\n",
       "      <td>Hindi (sanskritised Hindustani)[9]</td>\n",
       "      <td>341.0</td>\n",
       "      <td>4.429%</td>\n",
       "      <td>Indo-European</td>\n",
       "      <td>Indo-Aryan</td>\n",
       "    </tr>\n",
       "    <tr>\n",
       "      <th>4</th>\n",
       "      <td>5</td>\n",
       "      <td>Bengali</td>\n",
       "      <td>228.0</td>\n",
       "      <td>2.961%</td>\n",
       "      <td>Indo-European</td>\n",
       "      <td>Indo-Aryan</td>\n",
       "    </tr>\n",
       "    <tr>\n",
       "      <th>5</th>\n",
       "      <td>6</td>\n",
       "      <td>Portuguese</td>\n",
       "      <td>221.0</td>\n",
       "      <td>2.870%</td>\n",
       "      <td>Indo-European</td>\n",
       "      <td>Romance</td>\n",
       "    </tr>\n",
       "    <tr>\n",
       "      <th>6</th>\n",
       "      <td>7</td>\n",
       "      <td>Russian</td>\n",
       "      <td>154.0</td>\n",
       "      <td>2.000%</td>\n",
       "      <td>Indo-European</td>\n",
       "      <td>Balto-Slavic</td>\n",
       "    </tr>\n",
       "    <tr>\n",
       "      <th>7</th>\n",
       "      <td>8</td>\n",
       "      <td>Japanese</td>\n",
       "      <td>128.0</td>\n",
       "      <td>1.662%</td>\n",
       "      <td>Japonic</td>\n",
       "      <td>Japanese</td>\n",
       "    </tr>\n",
       "    <tr>\n",
       "      <th>8</th>\n",
       "      <td>9</td>\n",
       "      <td>Western Punjabi[10]</td>\n",
       "      <td>92.7</td>\n",
       "      <td>1.204%</td>\n",
       "      <td>Indo-European</td>\n",
       "      <td>Indo-Aryan</td>\n",
       "    </tr>\n",
       "    <tr>\n",
       "      <th>9</th>\n",
       "      <td>10</td>\n",
       "      <td>Marathi</td>\n",
       "      <td>83.1</td>\n",
       "      <td>1.079%</td>\n",
       "      <td>Indo-European</td>\n",
       "      <td>Indo-Aryan</td>\n",
       "    </tr>\n",
       "  </tbody>\n",
       "</table>\n",
       "</div>"
      ],
      "text/plain": [
       "   Rank                            Language  Speakers(millions)  \\\n",
       "0     1                    Mandarin Chinese               918.0   \n",
       "1     2                             Spanish               480.0   \n",
       "2     3                             English               379.0   \n",
       "3     4  Hindi (sanskritised Hindustani)[9]               341.0   \n",
       "4     5                             Bengali               228.0   \n",
       "5     6                          Portuguese               221.0   \n",
       "6     7                             Russian               154.0   \n",
       "7     8                            Japanese               128.0   \n",
       "8     9                 Western Punjabi[10]                92.7   \n",
       "9    10                             Marathi                83.1   \n",
       "\n",
       "  Percentageof world pop.(March 2019)[8] Language family        Branch  \n",
       "0                                11.922%    Sino-Tibetan       Sinitic  \n",
       "1                                 5.994%   Indo-European       Romance  \n",
       "2                                 4.922%   Indo-European      Germanic  \n",
       "3                                 4.429%   Indo-European    Indo-Aryan  \n",
       "4                                 2.961%   Indo-European    Indo-Aryan  \n",
       "5                                 2.870%   Indo-European       Romance  \n",
       "6                                 2.000%   Indo-European  Balto-Slavic  \n",
       "7                                 1.662%         Japonic      Japanese  \n",
       "8                                 1.204%   Indo-European    Indo-Aryan  \n",
       "9                                 1.079%   Indo-European    Indo-Aryan  "
      ]
     },
     "execution_count": 104,
     "metadata": {},
     "output_type": "execute_result"
    }
   ],
   "source": [
    "table = pd.read_html(url,match='Speakers')\n",
    "table[0].head(10)"
   ]
  },
  {
   "cell_type": "markdown",
   "metadata": {},
   "source": [
    "#### 3. Display IMDB's top 250 data (movie name, initial release, director name and stars) as a pandas dataframe.\n",
    "Hint: If you hover over the title of the movie, you should see the director's name. Can you find where it's stored in the html?"
   ]
  },
  {
   "cell_type": "code",
   "execution_count": 107,
   "metadata": {},
   "outputs": [],
   "source": [
    "# This is the url you will scrape in this exercise \n",
    "url = 'https://www.imdb.com/chart/top'"
   ]
  },
  {
   "cell_type": "code",
   "execution_count": 116,
   "metadata": {},
   "outputs": [
    {
     "data": {
      "text/html": [
       "<div>\n",
       "<style scoped>\n",
       "    .dataframe tbody tr th:only-of-type {\n",
       "        vertical-align: middle;\n",
       "    }\n",
       "\n",
       "    .dataframe tbody tr th {\n",
       "        vertical-align: top;\n",
       "    }\n",
       "\n",
       "    .dataframe thead th {\n",
       "        text-align: right;\n",
       "    }\n",
       "</style>\n",
       "<table border=\"1\" class=\"dataframe\">\n",
       "  <thead>\n",
       "    <tr style=\"text-align: right;\">\n",
       "      <th></th>\n",
       "      <th>Movie Title</th>\n",
       "      <th>IMDB Rating</th>\n",
       "      <th>Director Name</th>\n",
       "    </tr>\n",
       "  </thead>\n",
       "  <tbody>\n",
       "    <tr>\n",
       "      <th>0</th>\n",
       "      <td>1.       Die Verurteilten (1994)</td>\n",
       "      <td>9.2</td>\n",
       "      <td>Frank Darabont (dir.), Tim Robbins, Morgan Fre...</td>\n",
       "    </tr>\n",
       "    <tr>\n",
       "      <th>0</th>\n",
       "      <td>2.       Der Pate (1972)</td>\n",
       "      <td>9.1</td>\n",
       "      <td>Francis Ford Coppola (dir.), Marlon Brando, Al...</td>\n",
       "    </tr>\n",
       "    <tr>\n",
       "      <th>0</th>\n",
       "      <td>3.       Der Pate 2 (1974)</td>\n",
       "      <td>9.0</td>\n",
       "      <td>Francis Ford Coppola (dir.), Al Pacino, Robert...</td>\n",
       "    </tr>\n",
       "    <tr>\n",
       "      <th>0</th>\n",
       "      <td>4.       The Dark Knight (2008)</td>\n",
       "      <td>9.0</td>\n",
       "      <td>Christopher Nolan (dir.), Christian Bale, Heat...</td>\n",
       "    </tr>\n",
       "    <tr>\n",
       "      <th>0</th>\n",
       "      <td>5.       Die zwölf Geschworenen (1957)</td>\n",
       "      <td>8.9</td>\n",
       "      <td>Sidney Lumet (dir.), Henry Fonda, Lee J. Cobb</td>\n",
       "    </tr>\n",
       "    <tr>\n",
       "      <th>...</th>\n",
       "      <td>...</td>\n",
       "      <td>...</td>\n",
       "      <td>...</td>\n",
       "    </tr>\n",
       "    <tr>\n",
       "      <th>0</th>\n",
       "      <td>246.       Die Braut des Prinzen (1987)</td>\n",
       "      <td>8.0</td>\n",
       "      <td>Rob Reiner (dir.), Cary Elwes, Mandy Patinkin</td>\n",
       "    </tr>\n",
       "    <tr>\n",
       "      <th>0</th>\n",
       "      <td>247.       Schlacht um Algier (1966)</td>\n",
       "      <td>8.0</td>\n",
       "      <td>Gillo Pontecorvo (dir.), Brahim Hadjadj, Jean ...</td>\n",
       "    </tr>\n",
       "    <tr>\n",
       "      <th>0</th>\n",
       "      <td>248.       Drishyam (2015)</td>\n",
       "      <td>8.0</td>\n",
       "      <td>Nishikant Kamat (dir.), Ajay Devgn, Shriya Saran</td>\n",
       "    </tr>\n",
       "    <tr>\n",
       "      <th>0</th>\n",
       "      <td>249.       Fanny und Alexander (1982)</td>\n",
       "      <td>8.0</td>\n",
       "      <td>Ingmar Bergman (dir.), Bertil Guve, Pernilla A...</td>\n",
       "    </tr>\n",
       "    <tr>\n",
       "      <th>0</th>\n",
       "      <td>250.       Koe no katachi (2016)</td>\n",
       "      <td>8.0</td>\n",
       "      <td>Naoko Yamada (dir.), Miyu Irino, Saori Hayami</td>\n",
       "    </tr>\n",
       "  </tbody>\n",
       "</table>\n",
       "<p>250 rows × 3 columns</p>\n",
       "</div>"
      ],
      "text/plain": [
       "                                Movie Title IMDB Rating  \\\n",
       "0          1.       Die Verurteilten (1994)         9.2   \n",
       "0                  2.       Der Pate (1972)         9.1   \n",
       "0                3.       Der Pate 2 (1974)         9.0   \n",
       "0           4.       The Dark Knight (2008)         9.0   \n",
       "0    5.       Die zwölf Geschworenen (1957)         8.9   \n",
       "..                                      ...         ...   \n",
       "0   246.       Die Braut des Prinzen (1987)         8.0   \n",
       "0      247.       Schlacht um Algier (1966)         8.0   \n",
       "0                248.       Drishyam (2015)         8.0   \n",
       "0     249.       Fanny und Alexander (1982)         8.0   \n",
       "0          250.       Koe no katachi (2016)         8.0   \n",
       "\n",
       "                                        Director Name  \n",
       "0   Frank Darabont (dir.), Tim Robbins, Morgan Fre...  \n",
       "0   Francis Ford Coppola (dir.), Marlon Brando, Al...  \n",
       "0   Francis Ford Coppola (dir.), Al Pacino, Robert...  \n",
       "0   Christopher Nolan (dir.), Christian Bale, Heat...  \n",
       "0       Sidney Lumet (dir.), Henry Fonda, Lee J. Cobb  \n",
       "..                                                ...  \n",
       "0       Rob Reiner (dir.), Cary Elwes, Mandy Patinkin  \n",
       "0   Gillo Pontecorvo (dir.), Brahim Hadjadj, Jean ...  \n",
       "0    Nishikant Kamat (dir.), Ajay Devgn, Shriya Saran  \n",
       "0   Ingmar Bergman (dir.), Bertil Guve, Pernilla A...  \n",
       "0       Naoko Yamada (dir.), Miyu Irino, Saori Hayami  \n",
       "\n",
       "[250 rows x 3 columns]"
      ]
     },
     "execution_count": 116,
     "metadata": {},
     "output_type": "execute_result"
    }
   ],
   "source": [
    "page = requests.get(url)\n",
    "soup = BeautifulSoup(page.content, 'html.parser') \n",
    "movies = pd.DataFrame(columns = ['Movie Title','IMDB Rating','Director Name'])\n",
    "table = soup.find(class_='lister-list')\n",
    "rows = table.findAll('tr')\n",
    "for line in rows:\n",
    "    title = line.find(class_='titleColumn').get_text().replace('\\n',' ').strip()\n",
    "    rating = line.find(class_='ratingColumn imdbRating').get_text().strip()\n",
    "    dire = line.find(class_='titleColumn').find('a')['title']\n",
    "    df = pd.DataFrame({'Movie Title':[title],'IMDB Rating':[rating],'Director Name':[dire]})\n",
    "    movies = movies.append(df)\n",
    "movies"
   ]
  },
  {
   "cell_type": "markdown",
   "metadata": {},
   "source": [
    "#### 3.1. Display the movie name, year and a brief summary of the top 10 random movies (IMDB) as a pandas dataframe."
   ]
  },
  {
   "cell_type": "code",
   "execution_count": 122,
   "metadata": {},
   "outputs": [],
   "source": [
    "#This is the url you will scrape in this exercise\n",
    "url = 'https://www.imdb.com/list/ls009796553/'"
   ]
  },
  {
   "cell_type": "code",
   "execution_count": 132,
   "metadata": {},
   "outputs": [
    {
     "data": {
      "text/html": [
       "<div>\n",
       "<style scoped>\n",
       "    .dataframe tbody tr th:only-of-type {\n",
       "        vertical-align: middle;\n",
       "    }\n",
       "\n",
       "    .dataframe tbody tr th {\n",
       "        vertical-align: top;\n",
       "    }\n",
       "\n",
       "    .dataframe thead th {\n",
       "        text-align: right;\n",
       "    }\n",
       "</style>\n",
       "<table border=\"1\" class=\"dataframe\">\n",
       "  <thead>\n",
       "    <tr style=\"text-align: right;\">\n",
       "      <th></th>\n",
       "      <th>Movie Title</th>\n",
       "      <th>Summary</th>\n",
       "    </tr>\n",
       "  </thead>\n",
       "  <tbody>\n",
       "    <tr>\n",
       "      <th>0</th>\n",
       "      <td>1.\\nNightmare - Mörderische Träume\\n(1984)</td>\n",
       "      <td>The monstrous spirit of a slain child murderer...</td>\n",
       "    </tr>\n",
       "    <tr>\n",
       "      <th>0</th>\n",
       "      <td>2.\\nZeit des Erwachens\\n(1990)</td>\n",
       "      <td>The victims of an encephalitis epidemic many y...</td>\n",
       "    </tr>\n",
       "    <tr>\n",
       "      <th>0</th>\n",
       "      <td>3.\\nEine Klasse für sich\\n(1992)</td>\n",
       "      <td>Two sisters join the first female professional...</td>\n",
       "    </tr>\n",
       "    <tr>\n",
       "      <th>0</th>\n",
       "      <td>4.\\nIn den Straßen der Bronx\\n(1993)</td>\n",
       "      <td>A father becomes worried when a local gangster...</td>\n",
       "    </tr>\n",
       "    <tr>\n",
       "      <th>0</th>\n",
       "      <td>5.\\nAngels - Engel gibt es wirklich\\n(1994)</td>\n",
       "      <td>When a boy prays for a chance to have a family...</td>\n",
       "    </tr>\n",
       "    <tr>\n",
       "      <th>...</th>\n",
       "      <td>...</td>\n",
       "      <td>...</td>\n",
       "    </tr>\n",
       "    <tr>\n",
       "      <th>0</th>\n",
       "      <td>96.\\nBurning Palms\\n(2010)</td>\n",
       "      <td>A subversive tale that interlaces five stories...</td>\n",
       "    </tr>\n",
       "    <tr>\n",
       "      <th>0</th>\n",
       "      <td>97.\\nBad Teacher\\n(2011)</td>\n",
       "      <td>A lazy, incompetent middle school teacher who ...</td>\n",
       "    </tr>\n",
       "    <tr>\n",
       "      <th>0</th>\n",
       "      <td>98.\\nBrautalarm\\n(I) (2011)</td>\n",
       "      <td>Competition between the maid of honor and a br...</td>\n",
       "    </tr>\n",
       "    <tr>\n",
       "      <th>0</th>\n",
       "      <td>99.\\nChucky - Die Mörderpuppe\\n(1988)</td>\n",
       "      <td>A single mother gives her son a much sought-af...</td>\n",
       "    </tr>\n",
       "    <tr>\n",
       "      <th>0</th>\n",
       "      <td>100.\\nCry-Baby\\n(1990)</td>\n",
       "      <td>In 1950s Baltimore, a bad boy with a heart of ...</td>\n",
       "    </tr>\n",
       "  </tbody>\n",
       "</table>\n",
       "<p>100 rows × 2 columns</p>\n",
       "</div>"
      ],
      "text/plain": [
       "                                    Movie Title  \\\n",
       "0    1.\\nNightmare - Mörderische Träume\\n(1984)   \n",
       "0                2.\\nZeit des Erwachens\\n(1990)   \n",
       "0              3.\\nEine Klasse für sich\\n(1992)   \n",
       "0          4.\\nIn den Straßen der Bronx\\n(1993)   \n",
       "0   5.\\nAngels - Engel gibt es wirklich\\n(1994)   \n",
       "..                                          ...   \n",
       "0                    96.\\nBurning Palms\\n(2010)   \n",
       "0                      97.\\nBad Teacher\\n(2011)   \n",
       "0                   98.\\nBrautalarm\\n(I) (2011)   \n",
       "0         99.\\nChucky - Die Mörderpuppe\\n(1988)   \n",
       "0                        100.\\nCry-Baby\\n(1990)   \n",
       "\n",
       "                                              Summary  \n",
       "0   The monstrous spirit of a slain child murderer...  \n",
       "0   The victims of an encephalitis epidemic many y...  \n",
       "0   Two sisters join the first female professional...  \n",
       "0   A father becomes worried when a local gangster...  \n",
       "0   When a boy prays for a chance to have a family...  \n",
       "..                                                ...  \n",
       "0   A subversive tale that interlaces five stories...  \n",
       "0   A lazy, incompetent middle school teacher who ...  \n",
       "0   Competition between the maid of honor and a br...  \n",
       "0   A single mother gives her son a much sought-af...  \n",
       "0   In 1950s Baltimore, a bad boy with a heart of ...  \n",
       "\n",
       "[100 rows x 2 columns]"
      ]
     },
     "execution_count": 132,
     "metadata": {},
     "output_type": "execute_result"
    }
   ],
   "source": [
    "page = requests.get(url)\n",
    "soup = BeautifulSoup(page.content, 'html.parser') \n",
    "movies = pd.DataFrame(columns = ['Movie Title','Summary'])\n",
    "table = soup.find(class_='lister-list')\n",
    "rows = table.find_all(class_='lister-item mode-detail')\n",
    "for line in rows:\n",
    "    name = line.find(class_='lister-item-header').get_text().strip()\n",
    "    summary = line.find('p',class_='').get_text().strip()\n",
    "    df = pd.DataFrame({'Movie Title':[name],'Summary':[summary]})\n",
    "    movies = movies.append(df)\n",
    "movies\n"
   ]
  },
  {
   "cell_type": "markdown",
   "metadata": {},
   "source": [
    "## Bonus"
   ]
  },
  {
   "cell_type": "markdown",
   "metadata": {},
   "source": [
    "#### Find the live weather report (temperature, wind speed, description and weather) of a given city."
   ]
  },
  {
   "cell_type": "code",
   "execution_count": null,
   "metadata": {},
   "outputs": [],
   "source": [
    "#https://openweathermap.org/current\n",
    "city = input('Enter the city: ')\n",
    "url = 'http://api.openweathermap.org/data/2.5/weather?'+'q='+city+'&APPID=b35975e18dc93725acb092f7272cc6b8&units=metric'"
   ]
  },
  {
   "cell_type": "code",
   "execution_count": null,
   "metadata": {},
   "outputs": [],
   "source": [
    "# your code here"
   ]
  },
  {
   "cell_type": "markdown",
   "metadata": {},
   "source": [
    "#### Find the book name, price and stock availability as a pandas dataframe."
   ]
  },
  {
   "cell_type": "code",
   "execution_count": null,
   "metadata": {},
   "outputs": [],
   "source": [
    "# This is the url you will scrape in this exercise. \n",
    "# It is a fictional bookstore created to be scraped. \n",
    "url = 'http://books.toscrape.com/'"
   ]
  },
  {
   "cell_type": "code",
   "execution_count": null,
   "metadata": {},
   "outputs": [],
   "source": [
    "# your code here"
   ]
  },
  {
   "cell_type": "markdown",
   "metadata": {},
   "source": [
    "####  Display the 100 latest earthquakes info (date, time, latitude, longitude and region name) by the EMSC as a pandas dataframe.\n",
    "***Hint:*** Here the displayed number of earthquakes per page is 20, but you can easily move to the next page by looping through the desired number of pages and adding it to the end of the url."
   ]
  },
  {
   "cell_type": "code",
   "execution_count": null,
   "metadata": {},
   "outputs": [],
   "source": [
    "# This is the url you will scrape in this exercise\n",
    "url = 'https://www.emsc-csem.org/Earthquake/?view='\n",
    "\n",
    "# This is how you will loop through each page:\n",
    "number_of_pages = int(100/20)\n",
    "each_page_urls = []\n",
    "\n",
    "for n in range(1, number_of_pages+1):\n",
    "    link = url+str(n)\n",
    "    each_page_urls.append(link)\n",
    "    \n",
    "each_page_urls"
   ]
  },
  {
   "cell_type": "code",
   "execution_count": null,
   "metadata": {},
   "outputs": [],
   "source": [
    "# your code here"
   ]
  }
 ],
 "metadata": {
  "kernelspec": {
   "display_name": "Python 3",
   "language": "python",
   "name": "python3"
  },
  "language_info": {
   "codemirror_mode": {
    "name": "ipython",
    "version": 3
   },
   "file_extension": ".py",
   "mimetype": "text/x-python",
   "name": "python",
   "nbconvert_exporter": "python",
   "pygments_lexer": "ipython3",
   "version": "3.8.3"
  }
 },
 "nbformat": 4,
 "nbformat_minor": 4
}
